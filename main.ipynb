{
 "cells": [
  {
   "cell_type": "markdown",
   "id": "589861da",
   "metadata": {},
   "source": [
    "## Numpy Array and Basics"
   ]
  },
  {
   "cell_type": "code",
   "execution_count": 2,
   "id": "5c577db7",
   "metadata": {},
   "outputs": [],
   "source": [
    "import numpy as np"
   ]
  },
  {
   "cell_type": "markdown",
   "id": "98ad87e0",
   "metadata": {},
   "source": [
    "### Creating Array From The List"
   ]
  },
  {
   "cell_type": "code",
   "execution_count": 3,
   "id": "3b853aea",
   "metadata": {},
   "outputs": [
    {
     "name": "stdout",
     "output_type": "stream",
     "text": [
      "[1 2 3 4 5]\n",
      "[[1 2 3]\n",
      " [4 5 6]]\n"
     ]
    }
   ],
   "source": [
    "arr_1 = np.array([1,2,3,4,5])\n",
    "print(arr_1)\n",
    "\n",
    "arr_2 = np.array([[1,2,3],[4,5,6]])\n",
    "print(arr_2)"
   ]
  },
  {
   "cell_type": "markdown",
   "id": "b40c685b",
   "metadata": {},
   "source": [
    "### List Vs Numpy Array"
   ]
  },
  {
   "cell_type": "code",
   "execution_count": 4,
   "id": "f0d7b6ca",
   "metadata": {},
   "outputs": [
    {
     "name": "stdout",
     "output_type": "stream",
     "text": [
      "[2, 4, 8, 2, 4, 8]\n",
      "[ 4  8 16]\n"
     ]
    }
   ],
   "source": [
    "pylist = [2,4,8]\n",
    "print(pylist * 2)\n",
    "\n",
    "ny1list = np.array([2,4,8])\n",
    "print(ny1list * 2)"
   ]
  },
  {
   "cell_type": "markdown",
   "id": "ea422ae5",
   "metadata": {},
   "source": [
    "### ZEROS AND ONES"
   ]
  },
  {
   "cell_type": "code",
   "execution_count": 5,
   "id": "b69a4ad9",
   "metadata": {},
   "outputs": [
    {
     "name": "stdout",
     "output_type": "stream",
     "text": [
      "[[0. 0. 0.]\n",
      " [0. 0. 0.]\n",
      " [0. 0. 0.]]\n",
      "[[1. 1. 1.]\n",
      " [1. 1. 1.]]\n",
      "[[5 5 5]\n",
      " [5 5 5]]\n",
      "[[0.66621522 0.62569379 0.86174672]\n",
      " [0.61201712 0.38606545 0.11781091]]\n",
      "[ 0  2  4  6  8 10 12 14 16 18]\n"
     ]
    }
   ],
   "source": [
    "zero = np.zeros((3,3))  #3,3 is 3 Rows and 3 Columns\n",
    "print(zero)\n",
    "\n",
    "ones = np.ones((2,3))\n",
    "print(ones)\n",
    "\n",
    "full = np.full((2,3), 5)\n",
    "print(full)\n",
    "\n",
    "randoms = np.random.random((2,3))\n",
    "print(randoms)\n",
    "\n",
    "sequece = np.arange(0,20,2)\n",
    "print(sequece)"
   ]
  },
  {
   "cell_type": "markdown",
   "id": "d2d6ea76",
   "metadata": {},
   "source": [
    "### Vector Matrix and Tensor"
   ]
  },
  {
   "cell_type": "code",
   "execution_count": 6,
   "id": "10b32f7b",
   "metadata": {},
   "outputs": [
    {
     "name": "stdout",
     "output_type": "stream",
     "text": [
      "[1 2 3]\n",
      "[[1 2 3 4]\n",
      " [5 6 7 8]]\n",
      "[[[1 2]\n",
      "  [3 4]]\n",
      "\n",
      " [[5 6]\n",
      "  [7 8]]]\n"
     ]
    }
   ],
   "source": [
    "vect = np.array([1,2,3])\n",
    "print(vect)\n",
    "\n",
    "mat = np.array([[1,2,3,4],[5,6,7,8]])\n",
    "print(mat)\n",
    "\n",
    "ten = np.array([[[1,2],[3,4]],[[5,6],[7,8]]])\n",
    "print(ten)"
   ]
  },
  {
   "cell_type": "markdown",
   "id": "a554d414",
   "metadata": {},
   "source": [
    "### Array Types"
   ]
  },
  {
   "cell_type": "code",
   "execution_count": 7,
   "id": "fb7353bd",
   "metadata": {},
   "outputs": [
    {
     "name": "stdout",
     "output_type": "stream",
     "text": [
      "Shape (2, 3)\n",
      "Dimension 2\n",
      "Size 6\n",
      "Data Type float64\n"
     ]
    }
   ],
   "source": [
    "arr = np.array([[1,False,3],\n",
    "                [4.8,True,4]])\n",
    "\n",
    "print(\"Shape\",arr.shape)\n",
    "print(\"Dimension\",arr.ndim)\n",
    "print(\"Size\",arr.size)\n",
    "print(\"Data Type\",arr.dtype)\n",
    "\n",
    "## Any type of data fit but mostly use same data types\n"
   ]
  },
  {
   "cell_type": "markdown",
   "id": "dbb89e13",
   "metadata": {},
   "source": [
    "### ARRAY Reshaped"
   ]
  },
  {
   "cell_type": "code",
   "execution_count": 16,
   "id": "f265adf5",
   "metadata": {},
   "outputs": [
    {
     "name": "stdout",
     "output_type": "stream",
     "text": [
      "[ 0  1  2  3  4  5  6  7  8  9 10 11]\n",
      "[[ 0  1  2  3]\n",
      " [ 4  5  6  7]\n",
      " [ 8  9 10 11]]\n",
      "[ 0  1  2  3  4  5  6  7  8  9 10 11]\n",
      "[ 0  1  2  3  4  5  6  7  8  9 10 11]\n",
      "[[ 0  4  8]\n",
      " [ 1  5  9]\n",
      " [ 2  6 10]\n",
      " [ 3  7 11]]\n"
     ]
    }
   ],
   "source": [
    "arr = np.arange(12)\n",
    "\n",
    "print(arr)\n",
    "\n",
    "print(arp := arr.reshape(3,4))\n",
    "\n",
    "flat = arp.flatten()\n",
    "print(flat)\n",
    "\n",
    "ravell = arp.ravel()\n",
    "print(ravell)\n",
    "\n",
    "#Transpose Method\n",
    "tran = arp.T\n",
    "print(tran)\n",
    "\n"
   ]
  }
 ],
 "metadata": {
  "kernelspec": {
   "display_name": "myenv (3.13.7)",
   "language": "python",
   "name": "python3"
  },
  "language_info": {
   "codemirror_mode": {
    "name": "ipython",
    "version": 3
   },
   "file_extension": ".py",
   "mimetype": "text/x-python",
   "name": "python",
   "nbconvert_exporter": "python",
   "pygments_lexer": "ipython3",
   "version": "3.13.7"
  }
 },
 "nbformat": 4,
 "nbformat_minor": 5
}
